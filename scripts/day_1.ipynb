{
    "metadata": {
        "kernelspec": {
            "name": "SQL",
            "display_name": "SQL",
            "language": "sql"
        },
        "language_info": {
            "name": "sql",
            "version": ""
        }
    },
    "nbformat_minor": 2,
    "nbformat": 4,
    "cells": [
        {
            "cell_type": "markdown",
            "source": [
                "# Day 1\n",
                "https://github.com/anthonydb/practical-sql-2/blob/main/Chapter_02/Chapter_02.sql\n",
                "\n",
                "## Create Table\n",
                "Use `CREATE TABLE`"
            ],
            "metadata": {
                "language": "sql",
                "azdata_cell_guid": "a686f483-e283-42b8-a99c-da6240b61087"
            },
            "attachments": {}
        },
        {
            "cell_type": "code",
            "source": [
                "CREATE TABLE teachers (\n",
                "    id bigserial,\n",
                "    first_name varchar(25),\n",
                "    last_name varchar(50),\n",
                "    school varchar(50),\n",
                "    hire_date date,\n",
                "    salary numeric\n",
                ");"
            ],
            "metadata": {
                "azdata_cell_guid": "9cc67a23-406e-4b81-ae83-a99305c70d6d",
                "language": "sql"
            },
            "outputs": [
                {
                    "output_type": "error",
                    "ename": "",
                    "evalue": "relation \"teachers\" already exists",
                    "traceback": []
                },
                {
                    "output_type": "display_data",
                    "data": {
                        "text/html": "Total execution time: 00:00:00.001"
                    },
                    "metadata": {}
                }
            ],
            "execution_count": 2
        },
        {
            "cell_type": "markdown",
            "source": [
                "## Insert Rows"
            ],
            "metadata": {
                "language": "sql",
                "azdata_cell_guid": "fdb703c7-8753-48f9-82fe-6cf157f8c3f5"
            },
            "attachments": {}
        },
        {
            "cell_type": "code",
            "source": [
                "INSERT INTO teachers (first_name, last_name, school, hire_date, salary)\n",
                "VALUES ('Janet', 'Smith', 'F.D. Roosevelt HS', '2011-10-30', 36200),\n",
                "       ('Lee', 'Reynolds', 'F.D. Roosevelt HS', '1993-05-22', 65000),\n",
                "       ('Samuel', 'Cole', 'Myers Middle School', '2005-08-01', 43500),\n",
                "       ('Samantha', 'Bush', 'Myers Middle School', '2011-10-30', 36200),\n",
                "       ('Betty', 'Diaz', 'Myers Middle School', '2005-08-30', 43500),\n",
                "       ('Kathleen', 'Roush', 'F.D. Roosevelt HS', '2010-10-22', 38500);"
            ],
            "metadata": {
                "language": "sql",
                "azdata_cell_guid": "c7c84452-2902-4a12-8231-5f38ef8b0e99",
                "tags": []
            },
            "outputs": [
                {
                    "output_type": "display_data",
                    "data": {
                        "text/html": "Commands completed successfully"
                    },
                    "metadata": {}
                },
                {
                    "output_type": "display_data",
                    "data": {
                        "text/html": "Total execution time: 00:00:00.004"
                    },
                    "metadata": {}
                }
            ],
            "execution_count": 3
        },
        {
            "cell_type": "code",
            "source": [
                "SELECT\n",
                "    *\n",
                "FROM teachers;"
            ],
            "metadata": {
                "language": "sql",
                "azdata_cell_guid": "61ffbd85-ec95-4269-90be-3f8615f8393f",
                "tags": []
            },
            "outputs": [
                {
                    "output_type": "display_data",
                    "data": {
                        "text/html": "(6 row(s) affected)"
                    },
                    "metadata": {}
                },
                {
                    "output_type": "display_data",
                    "data": {
                        "text/html": "Total execution time: 00:00:00.002"
                    },
                    "metadata": {}
                },
                {
                    "output_type": "execute_result",
                    "execution_count": 2,
                    "data": {
                        "application/vnd.dataresource+json": {
                            "schema": {
                                "fields": [
                                    {
                                        "name": "id"
                                    },
                                    {
                                        "name": "first_name"
                                    },
                                    {
                                        "name": "last_name"
                                    },
                                    {
                                        "name": "school"
                                    },
                                    {
                                        "name": "hire_date"
                                    },
                                    {
                                        "name": "salary"
                                    }
                                ]
                            },
                            "data": [
                                {
                                    "0": "1",
                                    "1": "Janet",
                                    "2": "Smith",
                                    "3": "F.D. Roosevelt HS",
                                    "4": "2011-10-30",
                                    "5": "36200"
                                },
                                {
                                    "0": "2",
                                    "1": "Lee",
                                    "2": "Reynolds",
                                    "3": "F.D. Roosevelt HS",
                                    "4": "1993-05-22",
                                    "5": "65000"
                                },
                                {
                                    "0": "3",
                                    "1": "Samuel",
                                    "2": "Cole",
                                    "3": "Myers Middle School",
                                    "4": "2005-08-01",
                                    "5": "43500"
                                },
                                {
                                    "0": "4",
                                    "1": "Samantha",
                                    "2": "Bush",
                                    "3": "Myers Middle School",
                                    "4": "2011-10-30",
                                    "5": "36200"
                                },
                                {
                                    "0": "5",
                                    "1": "Betty",
                                    "2": "Diaz",
                                    "3": "Myers Middle School",
                                    "4": "2005-08-30",
                                    "5": "43500"
                                },
                                {
                                    "0": "6",
                                    "1": "Kathleen",
                                    "2": "Roush",
                                    "3": "F.D. Roosevelt HS",
                                    "4": "2010-10-22",
                                    "5": "38500"
                                }
                            ]
                        },
                        "text/html": "<table><tr><th>id</th><th>first_name</th><th>last_name</th><th>school</th><th>hire_date</th><th>salary</th></tr><tr><td>1</td><td>Janet</td><td>Smith</td><td>F.D. Roosevelt HS</td><td>2011-10-30</td><td>36200</td></tr><tr><td>2</td><td>Lee</td><td>Reynolds</td><td>F.D. Roosevelt HS</td><td>1993-05-22</td><td>65000</td></tr><tr><td>3</td><td>Samuel</td><td>Cole</td><td>Myers Middle School</td><td>2005-08-01</td><td>43500</td></tr><tr><td>4</td><td>Samantha</td><td>Bush</td><td>Myers Middle School</td><td>2011-10-30</td><td>36200</td></tr><tr><td>5</td><td>Betty</td><td>Diaz</td><td>Myers Middle School</td><td>2005-08-30</td><td>43500</td></tr><tr><td>6</td><td>Kathleen</td><td>Roush</td><td>F.D. Roosevelt HS</td><td>2010-10-22</td><td>38500</td></tr></table>"
                    },
                    "metadata": {}
                }
            ],
            "execution_count": 2
        },
        {
            "cell_type": "markdown",
            "source": [
                "# Day 2\n",
                "https://github.com/anthonydb/practical-sql-2/blob/main/Chapter_03/Chapter_03.sql\n",
                "\n",
                "## Select\n",
                "Can use \"a little-known bit of standard SQL\":"
            ],
            "metadata": {
                "language": "sql",
                "azdata_cell_guid": "006bb2e2-ab33-44ef-ad4d-62c90e68f008"
            },
            "attachments": {}
        },
        {
            "cell_type": "code",
            "source": [
                "TABLE teachers;"
            ],
            "metadata": {
                "language": "sql",
                "azdata_cell_guid": "9acf543e-6528-4ef0-920a-bfc19fb25ed0"
            },
            "outputs": [
                {
                    "output_type": "display_data",
                    "data": {
                        "text/html": "(6 row(s) affected)"
                    },
                    "metadata": {}
                },
                {
                    "output_type": "display_data",
                    "data": {
                        "text/html": "Total execution time: 00:00:00.004"
                    },
                    "metadata": {}
                },
                {
                    "output_type": "execute_result",
                    "metadata": {},
                    "execution_count": 1,
                    "data": {
                        "application/vnd.dataresource+json": {
                            "schema": {
                                "fields": [
                                    {
                                        "name": "id"
                                    },
                                    {
                                        "name": "first_name"
                                    },
                                    {
                                        "name": "last_name"
                                    },
                                    {
                                        "name": "school"
                                    },
                                    {
                                        "name": "hire_date"
                                    },
                                    {
                                        "name": "salary"
                                    }
                                ]
                            },
                            "data": [
                                {
                                    "0": "1",
                                    "1": "Janet",
                                    "2": "Smith",
                                    "3": "F.D. Roosevelt HS",
                                    "4": "2011-10-30",
                                    "5": "36200"
                                },
                                {
                                    "0": "2",
                                    "1": "Lee",
                                    "2": "Reynolds",
                                    "3": "F.D. Roosevelt HS",
                                    "4": "1993-05-22",
                                    "5": "65000"
                                },
                                {
                                    "0": "3",
                                    "1": "Samuel",
                                    "2": "Cole",
                                    "3": "Myers Middle School",
                                    "4": "2005-08-01",
                                    "5": "43500"
                                },
                                {
                                    "0": "4",
                                    "1": "Samantha",
                                    "2": "Bush",
                                    "3": "Myers Middle School",
                                    "4": "2011-10-30",
                                    "5": "36200"
                                },
                                {
                                    "0": "5",
                                    "1": "Betty",
                                    "2": "Diaz",
                                    "3": "Myers Middle School",
                                    "4": "2005-08-30",
                                    "5": "43500"
                                },
                                {
                                    "0": "6",
                                    "1": "Kathleen",
                                    "2": "Roush",
                                    "3": "F.D. Roosevelt HS",
                                    "4": "2010-10-22",
                                    "5": "38500"
                                }
                            ]
                        },
                        "text/html": [
                            "<table>",
                            "<tr><th>id</th><th>first_name</th><th>last_name</th><th>school</th><th>hire_date</th><th>salary</th></tr>",
                            "<tr><td>1</td><td>Janet</td><td>Smith</td><td>F.D. Roosevelt HS</td><td>2011-10-30</td><td>36200</td></tr>",
                            "<tr><td>2</td><td>Lee</td><td>Reynolds</td><td>F.D. Roosevelt HS</td><td>1993-05-22</td><td>65000</td></tr>",
                            "<tr><td>3</td><td>Samuel</td><td>Cole</td><td>Myers Middle School</td><td>2005-08-01</td><td>43500</td></tr>",
                            "<tr><td>4</td><td>Samantha</td><td>Bush</td><td>Myers Middle School</td><td>2011-10-30</td><td>36200</td></tr>",
                            "<tr><td>5</td><td>Betty</td><td>Diaz</td><td>Myers Middle School</td><td>2005-08-30</td><td>43500</td></tr>",
                            "<tr><td>6</td><td>Kathleen</td><td>Roush</td><td>F.D. Roosevelt HS</td><td>2010-10-22</td><td>38500</td></tr>",
                            "</table>"
                        ]
                    }
                }
            ],
            "execution_count": 1
        },
        {
            "cell_type": "code",
            "source": [
                "--Query subset of columns\n",
                "SELECT last_name, first_name, salary FROM teachers;"
            ],
            "metadata": {
                "language": "sql",
                "azdata_cell_guid": "8e89ba9d-8375-4908-975a-357508940b6b"
            },
            "outputs": [
                {
                    "output_type": "display_data",
                    "data": {
                        "text/html": "(6 row(s) affected)"
                    },
                    "metadata": {}
                },
                {
                    "output_type": "display_data",
                    "data": {
                        "text/html": "Total execution time: 00:00:00.002"
                    },
                    "metadata": {}
                },
                {
                    "output_type": "execute_result",
                    "metadata": {},
                    "execution_count": 2,
                    "data": {
                        "application/vnd.dataresource+json": {
                            "schema": {
                                "fields": [
                                    {
                                        "name": "last_name"
                                    },
                                    {
                                        "name": "first_name"
                                    },
                                    {
                                        "name": "salary"
                                    }
                                ]
                            },
                            "data": [
                                {
                                    "0": "Smith",
                                    "1": "Janet",
                                    "2": "36200"
                                },
                                {
                                    "0": "Reynolds",
                                    "1": "Lee",
                                    "2": "65000"
                                },
                                {
                                    "0": "Cole",
                                    "1": "Samuel",
                                    "2": "43500"
                                },
                                {
                                    "0": "Bush",
                                    "1": "Samantha",
                                    "2": "36200"
                                },
                                {
                                    "0": "Diaz",
                                    "1": "Betty",
                                    "2": "43500"
                                },
                                {
                                    "0": "Roush",
                                    "1": "Kathleen",
                                    "2": "38500"
                                }
                            ]
                        },
                        "text/html": [
                            "<table>",
                            "<tr><th>last_name</th><th>first_name</th><th>salary</th></tr>",
                            "<tr><td>Smith</td><td>Janet</td><td>36200</td></tr>",
                            "<tr><td>Reynolds</td><td>Lee</td><td>65000</td></tr>",
                            "<tr><td>Cole</td><td>Samuel</td><td>43500</td></tr>",
                            "<tr><td>Bush</td><td>Samantha</td><td>36200</td></tr>",
                            "<tr><td>Diaz</td><td>Betty</td><td>43500</td></tr>",
                            "<tr><td>Roush</td><td>Kathleen</td><td>38500</td></tr>",
                            "</table>"
                        ]
                    }
                }
            ],
            "execution_count": 2
        },
        {
            "cell_type": "markdown",
            "source": [
                "## ORDER BY"
            ],
            "metadata": {
                "language": "sql",
                "azdata_cell_guid": "c6775584-c82a-4496-a8d0-5c67fed98ea8"
            },
            "attachments": {}
        },
        {
            "cell_type": "code",
            "source": [
                "SELECT first_name, last_name, salary\n",
                "FROM teachers\n",
                "ORDER BY salary DESC;"
            ],
            "metadata": {
                "language": "sql",
                "azdata_cell_guid": "27618d84-22f6-4b8d-81b5-2c6bda11e001",
                "tags": []
            },
            "outputs": [
                {
                    "output_type": "display_data",
                    "data": {
                        "text/html": "(6 row(s) affected)"
                    },
                    "metadata": {}
                },
                {
                    "output_type": "display_data",
                    "data": {
                        "text/html": "Total execution time: 00:00:00.002"
                    },
                    "metadata": {}
                },
                {
                    "output_type": "execute_result",
                    "metadata": {},
                    "execution_count": 3,
                    "data": {
                        "application/vnd.dataresource+json": {
                            "schema": {
                                "fields": [
                                    {
                                        "name": "first_name"
                                    },
                                    {
                                        "name": "last_name"
                                    },
                                    {
                                        "name": "salary"
                                    }
                                ]
                            },
                            "data": [
                                {
                                    "0": "Lee",
                                    "1": "Reynolds",
                                    "2": "65000"
                                },
                                {
                                    "0": "Samuel",
                                    "1": "Cole",
                                    "2": "43500"
                                },
                                {
                                    "0": "Betty",
                                    "1": "Diaz",
                                    "2": "43500"
                                },
                                {
                                    "0": "Kathleen",
                                    "1": "Roush",
                                    "2": "38500"
                                },
                                {
                                    "0": "Janet",
                                    "1": "Smith",
                                    "2": "36200"
                                },
                                {
                                    "0": "Samantha",
                                    "1": "Bush",
                                    "2": "36200"
                                }
                            ]
                        },
                        "text/html": [
                            "<table>",
                            "<tr><th>first_name</th><th>last_name</th><th>salary</th></tr>",
                            "<tr><td>Lee</td><td>Reynolds</td><td>65000</td></tr>",
                            "<tr><td>Samuel</td><td>Cole</td><td>43500</td></tr>",
                            "<tr><td>Betty</td><td>Diaz</td><td>43500</td></tr>",
                            "<tr><td>Kathleen</td><td>Roush</td><td>38500</td></tr>",
                            "<tr><td>Janet</td><td>Smith</td><td>36200</td></tr>",
                            "<tr><td>Samantha</td><td>Bush</td><td>36200</td></tr>",
                            "</table>"
                        ]
                    }
                }
            ],
            "execution_count": 3
        },
        {
            "cell_type": "code",
            "source": [
                "--Can also do multiple sorts on table\n",
                "SELECT last_name, school, hire_date\n",
                "FROM teachers\n",
                "ORDER BY school ASC, hire_date DESC;"
            ],
            "metadata": {
                "language": "sql",
                "azdata_cell_guid": "fe58b719-dfbb-4724-a02d-31105693b427"
            },
            "outputs": [
                {
                    "output_type": "display_data",
                    "data": {
                        "text/html": "(6 row(s) affected)"
                    },
                    "metadata": {}
                },
                {
                    "output_type": "display_data",
                    "data": {
                        "text/html": "Total execution time: 00:00:00.001"
                    },
                    "metadata": {}
                },
                {
                    "output_type": "execute_result",
                    "metadata": {},
                    "execution_count": 4,
                    "data": {
                        "application/vnd.dataresource+json": {
                            "schema": {
                                "fields": [
                                    {
                                        "name": "last_name"
                                    },
                                    {
                                        "name": "school"
                                    },
                                    {
                                        "name": "hire_date"
                                    }
                                ]
                            },
                            "data": [
                                {
                                    "0": "Smith",
                                    "1": "F.D. Roosevelt HS",
                                    "2": "2011-10-30"
                                },
                                {
                                    "0": "Roush",
                                    "1": "F.D. Roosevelt HS",
                                    "2": "2010-10-22"
                                },
                                {
                                    "0": "Reynolds",
                                    "1": "F.D. Roosevelt HS",
                                    "2": "1993-05-22"
                                },
                                {
                                    "0": "Bush",
                                    "1": "Myers Middle School",
                                    "2": "2011-10-30"
                                },
                                {
                                    "0": "Diaz",
                                    "1": "Myers Middle School",
                                    "2": "2005-08-30"
                                },
                                {
                                    "0": "Cole",
                                    "1": "Myers Middle School",
                                    "2": "2005-08-01"
                                }
                            ]
                        },
                        "text/html": [
                            "<table>",
                            "<tr><th>last_name</th><th>school</th><th>hire_date</th></tr>",
                            "<tr><td>Smith</td><td>F.D. Roosevelt HS</td><td>2011-10-30</td></tr>",
                            "<tr><td>Roush</td><td>F.D. Roosevelt HS</td><td>2010-10-22</td></tr>",
                            "<tr><td>Reynolds</td><td>F.D. Roosevelt HS</td><td>1993-05-22</td></tr>",
                            "<tr><td>Bush</td><td>Myers Middle School</td><td>2011-10-30</td></tr>",
                            "<tr><td>Diaz</td><td>Myers Middle School</td><td>2005-08-30</td></tr>",
                            "<tr><td>Cole</td><td>Myers Middle School</td><td>2005-08-01</td></tr>",
                            "</table>"
                        ]
                    }
                }
            ],
            "execution_count": 4
        },
        {
            "cell_type": "markdown",
            "source": [
                "## DISTINCT"
            ],
            "metadata": {
                "language": "sql",
                "azdata_cell_guid": "e9ef5169-3760-48b5-9f34-a74e12712a5b"
            },
            "attachments": {}
        },
        {
            "cell_type": "code",
            "source": [
                "SELECT DISTINCT school\n",
                "FROM teachers\n",
                "ORDER BY school;"
            ],
            "metadata": {
                "language": "sql",
                "azdata_cell_guid": "ac0f60d9-73b4-43dc-b90b-f2e639de06c3"
            },
            "outputs": [
                {
                    "output_type": "display_data",
                    "data": {
                        "text/html": "(2 row(s) affected)"
                    },
                    "metadata": {}
                },
                {
                    "output_type": "display_data",
                    "data": {
                        "text/html": "Total execution time: 00:00:00.002"
                    },
                    "metadata": {}
                },
                {
                    "output_type": "execute_result",
                    "metadata": {},
                    "execution_count": 6,
                    "data": {
                        "application/vnd.dataresource+json": {
                            "schema": {
                                "fields": [
                                    {
                                        "name": "school"
                                    }
                                ]
                            },
                            "data": [
                                {
                                    "0": "F.D. Roosevelt HS"
                                },
                                {
                                    "0": "Myers Middle School"
                                }
                            ]
                        },
                        "text/html": [
                            "<table>",
                            "<tr><th>school</th></tr>",
                            "<tr><td>F.D. Roosevelt HS</td></tr>",
                            "<tr><td>Myers Middle School</td></tr>",
                            "</table>"
                        ]
                    }
                }
            ],
            "execution_count": 6
        },
        {
            "cell_type": "markdown",
            "source": [
                "Can use `DISTINCT` to ask \"For each x in the table, what are all the y values?\" e.g.\n",
                "- For each factory, what are the parts it produces?"
            ],
            "metadata": {
                "language": "sql",
                "azdata_cell_guid": "9441773a-6e92-4e05-a2cb-84869a8689c5"
            },
            "attachments": {}
        },
        {
            "cell_type": "code",
            "source": [
                "--DISTINCT also works on more than 1 column at a time\n",
                "SELECT DISTINCT school, salary\n",
                "FROM teachers\n",
                "ORDER BY school, salary;"
            ],
            "metadata": {
                "language": "sql",
                "azdata_cell_guid": "c09456df-f300-4cca-9986-b4d344f4823e"
            },
            "outputs": [
                {
                    "output_type": "display_data",
                    "data": {
                        "text/html": "(5 row(s) affected)"
                    },
                    "metadata": {}
                },
                {
                    "output_type": "display_data",
                    "data": {
                        "text/html": "Total execution time: 00:00:00.002"
                    },
                    "metadata": {}
                },
                {
                    "output_type": "execute_result",
                    "metadata": {},
                    "execution_count": 8,
                    "data": {
                        "application/vnd.dataresource+json": {
                            "schema": {
                                "fields": [
                                    {
                                        "name": "school"
                                    },
                                    {
                                        "name": "salary"
                                    }
                                ]
                            },
                            "data": [
                                {
                                    "0": "F.D. Roosevelt HS",
                                    "1": "36200"
                                },
                                {
                                    "0": "F.D. Roosevelt HS",
                                    "1": "38500"
                                },
                                {
                                    "0": "F.D. Roosevelt HS",
                                    "1": "65000"
                                },
                                {
                                    "0": "Myers Middle School",
                                    "1": "36200"
                                },
                                {
                                    "0": "Myers Middle School",
                                    "1": "43500"
                                }
                            ]
                        },
                        "text/html": [
                            "<table>",
                            "<tr><th>school</th><th>salary</th></tr>",
                            "<tr><td>F.D. Roosevelt HS</td><td>36200</td></tr>",
                            "<tr><td>F.D. Roosevelt HS</td><td>38500</td></tr>",
                            "<tr><td>F.D. Roosevelt HS</td><td>65000</td></tr>",
                            "<tr><td>Myers Middle School</td><td>36200</td></tr>",
                            "<tr><td>Myers Middle School</td><td>43500</td></tr>",
                            "</table>"
                        ]
                    }
                }
            ],
            "execution_count": 8
        }
    ]
}