{
    "metadata": {
        "kernelspec": {
            "name": "SQL",
            "display_name": "SQL",
            "language": "sql"
        },
        "language_info": {
            "name": "sql",
            "version": ""
        }
    },
    "nbformat_minor": 2,
    "nbformat": 4,
    "cells": [
        {
            "cell_type": "markdown",
            "source": [
                "# Day 1\n",
                "https://github.com/anthonydb/practical-sql-2/blob/main/Chapter_02/Chapter_02.sql\n",
                "\n",
                "## Create Table\n",
                "Use `CREATE TABLE`"
            ],
            "metadata": {
                "language": "sql",
                "azdata_cell_guid": "a686f483-e283-42b8-a99c-da6240b61087"
            },
            "attachments": {}
        },
        {
            "cell_type": "code",
            "source": [
                "CREATE TABLE teachers (\n",
                "    id bigserial,\n",
                "    first_name varchar(25),\n",
                "    last_name varchar(50),\n",
                "    school varchar(50),\n",
                "    hire_date date,\n",
                "    salary numeric\n",
                ");"
            ],
            "metadata": {
                "azdata_cell_guid": "9cc67a23-406e-4b81-ae83-a99305c70d6d",
                "language": "sql"
            },
            "outputs": [
                {
                    "output_type": "error",
                    "evalue": "relation \"teachers\" already exists",
                    "ename": "",
                    "traceback": []
                },
                {
                    "output_type": "display_data",
                    "data": {
                        "text/html": "Total execution time: 00:00:00.001"
                    },
                    "metadata": {}
                }
            ],
            "execution_count": 2
        },
        {
            "cell_type": "markdown",
            "source": [
                "## Insert Rows"
            ],
            "metadata": {
                "language": "sql",
                "azdata_cell_guid": "fdb703c7-8753-48f9-82fe-6cf157f8c3f5"
            },
            "attachments": {}
        },
        {
            "cell_type": "code",
            "source": [
                "INSERT INTO teachers (first_name, last_name, school, hire_date, salary)\n",
                "VALUES ('Janet', 'Smith', 'F.D. Roosevelt HS', '2011-10-30', 36200),\n",
                "       ('Lee', 'Reynolds', 'F.D. Roosevelt HS', '1993-05-22', 65000),\n",
                "       ('Samuel', 'Cole', 'Myers Middle School', '2005-08-01', 43500),\n",
                "       ('Samantha', 'Bush', 'Myers Middle School', '2011-10-30', 36200),\n",
                "       ('Betty', 'Diaz', 'Myers Middle School', '2005-08-30', 43500),\n",
                "       ('Kathleen', 'Roush', 'F.D. Roosevelt HS', '2010-10-22', 38500);"
            ],
            "metadata": {
                "language": "sql",
                "azdata_cell_guid": "c7c84452-2902-4a12-8231-5f38ef8b0e99",
                "tags": []
            },
            "outputs": [
                {
                    "output_type": "display_data",
                    "data": {
                        "text/html": "Commands completed successfully"
                    },
                    "metadata": {}
                },
                {
                    "output_type": "display_data",
                    "data": {
                        "text/html": "Total execution time: 00:00:00.004"
                    },
                    "metadata": {}
                }
            ],
            "execution_count": 3
        },
        {
            "cell_type": "code",
            "source": [
                "SELECT\n",
                "    *\n",
                "FROM teachers;"
            ],
            "metadata": {
                "language": "sql",
                "azdata_cell_guid": "61ffbd85-ec95-4269-90be-3f8615f8393f",
                "tags": []
            },
            "outputs": [
                {
                    "output_type": "display_data",
                    "data": {
                        "text/html": "(6 row(s) affected)"
                    },
                    "metadata": {}
                },
                {
                    "output_type": "display_data",
                    "data": {
                        "text/html": "Total execution time: 00:00:00.002"
                    },
                    "metadata": {}
                },
                {
                    "output_type": "execute_result",
                    "metadata": {},
                    "execution_count": 5,
                    "data": {
                        "application/vnd.dataresource+json": {
                            "schema": {
                                "fields": [
                                    {
                                        "name": "id"
                                    },
                                    {
                                        "name": "first_name"
                                    },
                                    {
                                        "name": "last_name"
                                    },
                                    {
                                        "name": "school"
                                    },
                                    {
                                        "name": "hire_date"
                                    },
                                    {
                                        "name": "salary"
                                    }
                                ]
                            },
                            "data": [
                                {
                                    "0": "1",
                                    "1": "Janet",
                                    "2": "Smith",
                                    "3": "F.D. Roosevelt HS",
                                    "4": "2011-10-30",
                                    "5": "36200"
                                },
                                {
                                    "0": "2",
                                    "1": "Lee",
                                    "2": "Reynolds",
                                    "3": "F.D. Roosevelt HS",
                                    "4": "1993-05-22",
                                    "5": "65000"
                                },
                                {
                                    "0": "3",
                                    "1": "Samuel",
                                    "2": "Cole",
                                    "3": "Myers Middle School",
                                    "4": "2005-08-01",
                                    "5": "43500"
                                },
                                {
                                    "0": "4",
                                    "1": "Samantha",
                                    "2": "Bush",
                                    "3": "Myers Middle School",
                                    "4": "2011-10-30",
                                    "5": "36200"
                                },
                                {
                                    "0": "5",
                                    "1": "Betty",
                                    "2": "Diaz",
                                    "3": "Myers Middle School",
                                    "4": "2005-08-30",
                                    "5": "43500"
                                },
                                {
                                    "0": "6",
                                    "1": "Kathleen",
                                    "2": "Roush",
                                    "3": "F.D. Roosevelt HS",
                                    "4": "2010-10-22",
                                    "5": "38500"
                                }
                            ]
                        },
                        "text/html": [
                            "<table>",
                            "<tr><th>id</th><th>first_name</th><th>last_name</th><th>school</th><th>hire_date</th><th>salary</th></tr>",
                            "<tr><td>1</td><td>Janet</td><td>Smith</td><td>F.D. Roosevelt HS</td><td>2011-10-30</td><td>36200</td></tr>",
                            "<tr><td>2</td><td>Lee</td><td>Reynolds</td><td>F.D. Roosevelt HS</td><td>1993-05-22</td><td>65000</td></tr>",
                            "<tr><td>3</td><td>Samuel</td><td>Cole</td><td>Myers Middle School</td><td>2005-08-01</td><td>43500</td></tr>",
                            "<tr><td>4</td><td>Samantha</td><td>Bush</td><td>Myers Middle School</td><td>2011-10-30</td><td>36200</td></tr>",
                            "<tr><td>5</td><td>Betty</td><td>Diaz</td><td>Myers Middle School</td><td>2005-08-30</td><td>43500</td></tr>",
                            "<tr><td>6</td><td>Kathleen</td><td>Roush</td><td>F.D. Roosevelt HS</td><td>2010-10-22</td><td>38500</td></tr>",
                            "</table>"
                        ]
                    }
                }
            ],
            "execution_count": 5
        }
    ]
}